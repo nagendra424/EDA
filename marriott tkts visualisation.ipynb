{
 "cells": [
  {
   "cell_type": "code",
   "execution_count": 2,
   "metadata": {},
   "outputs": [],
   "source": [
    "import pandas as pd\n",
    "\n",
    "df=pd.read_csv(\"C:\\\\Users\\\\gnagendra\\\\Documents\\\\Jira_modified tickets_with label.csv\",encoding = 'unicode_escape')"
   ]
  },
  {
   "cell_type": "code",
   "execution_count": 3,
   "metadata": {},
   "outputs": [
    {
     "data": {
      "text/html": [
       "<div>\n",
       "<style scoped>\n",
       "    .dataframe tbody tr th:only-of-type {\n",
       "        vertical-align: middle;\n",
       "    }\n",
       "\n",
       "    .dataframe tbody tr th {\n",
       "        vertical-align: top;\n",
       "    }\n",
       "\n",
       "    .dataframe thead th {\n",
       "        text-align: right;\n",
       "    }\n",
       "</style>\n",
       "<table border=\"1\" class=\"dataframe\">\n",
       "  <thead>\n",
       "    <tr style=\"text-align: right;\">\n",
       "      <th></th>\n",
       "      <th>Summary</th>\n",
       "      <th>User/Auto</th>\n",
       "      <th>Created</th>\n",
       "      <th>Resolved</th>\n",
       "      <th>Description</th>\n",
       "    </tr>\n",
       "  </thead>\n",
       "  <tbody>\n",
       "    <tr>\n",
       "      <th>0</th>\n",
       "      <td>Unable to connec to SMTP host from OSE pod</td>\n",
       "      <td>incident</td>\n",
       "      <td>27-09-2019 09:20</td>\n",
       "      <td>27-09-2019 12:10</td>\n",
       "      <td>&lt;p&gt;&lt;span style=\"color: rgb(29, 28, 29); font-f...</td>\n",
       "    </tr>\n",
       "    <tr>\n",
       "      <th>1</th>\n",
       "      <td>Deployment failing | PODS are stuck</td>\n",
       "      <td>incident</td>\n",
       "      <td>11-09-2019 08:04</td>\n",
       "      <td>11-09-2019 09:12</td>\n",
       "      <td>&lt;p&gt;Hi OSE Team,&lt;br&gt; \\n&lt;br&gt; \\nWe are facing iss...</td>\n",
       "    </tr>\n",
       "    <tr>\n",
       "      <th>2</th>\n",
       "      <td>OSE_perf2_red URL _not accessible</td>\n",
       "      <td>incident</td>\n",
       "      <td>23-08-2019 08:06</td>\n",
       "      <td>NaN</td>\n",
       "      <td>&lt;table class=\"je-mso-wrapper\"&gt;&lt;tbody&gt;&lt;tr&gt;&lt;td&gt;&lt;...</td>\n",
       "    </tr>\n",
       "    <tr>\n",
       "      <th>3</th>\n",
       "      <td>DSP Application URL's are not working</td>\n",
       "      <td>incident</td>\n",
       "      <td>29-07-2019 05:01</td>\n",
       "      <td>29-07-2019 08:41</td>\n",
       "      <td>&lt;p&gt;The DSP application URL's are not working. ...</td>\n",
       "    </tr>\n",
       "    <tr>\n",
       "      <th>4</th>\n",
       "      <td>Deployment failure in cloudred OSE perf3.9 env</td>\n",
       "      <td>incident</td>\n",
       "      <td>08-07-2019 06:54</td>\n",
       "      <td>08-07-2019 11:05</td>\n",
       "      <td>&lt;div&gt; \\n&lt;p style=\"line-height: normal; margin-...</td>\n",
       "    </tr>\n",
       "  </tbody>\n",
       "</table>\n",
       "</div>"
      ],
      "text/plain": [
       "                                          Summary User/Auto           Created  \\\n",
       "0      Unable to connec to SMTP host from OSE pod  incident  27-09-2019 09:20   \n",
       "1             Deployment failing | PODS are stuck  incident  11-09-2019 08:04   \n",
       "2               OSE_perf2_red URL _not accessible  incident  23-08-2019 08:06   \n",
       "3           DSP Application URL's are not working  incident  29-07-2019 05:01   \n",
       "4  Deployment failure in cloudred OSE perf3.9 env  incident  08-07-2019 06:54   \n",
       "\n",
       "           Resolved                                        Description  \n",
       "0  27-09-2019 12:10  <p><span style=\"color: rgb(29, 28, 29); font-f...  \n",
       "1  11-09-2019 09:12  <p>Hi OSE Team,<br> \\n<br> \\nWe are facing iss...  \n",
       "2               NaN  <table class=\"je-mso-wrapper\"><tbody><tr><td><...  \n",
       "3  29-07-2019 08:41  <p>The DSP application URL's are not working. ...  \n",
       "4  08-07-2019 11:05  <div> \\n<p style=\"line-height: normal; margin-...  "
      ]
     },
     "execution_count": 3,
     "metadata": {},
     "output_type": "execute_result"
    }
   ],
   "source": [
    "df.head()"
   ]
  },
  {
   "cell_type": "code",
   "execution_count": 4,
   "metadata": {},
   "outputs": [
    {
     "data": {
      "text/plain": [
       "(575, 5)"
      ]
     },
     "execution_count": 4,
     "metadata": {},
     "output_type": "execute_result"
    }
   ],
   "source": [
    "df.shape"
   ]
  },
  {
   "cell_type": "code",
   "execution_count": 18,
   "metadata": {},
   "outputs": [],
   "source": [
    "df.to_csv('marriott_tkts_labelled.csv')"
   ]
  },
  {
   "cell_type": "code",
   "execution_count": 5,
   "metadata": {},
   "outputs": [],
   "source": [
    "import matplotlib.pyplot as plt"
   ]
  },
  {
   "cell_type": "code",
   "execution_count": 6,
   "metadata": {},
   "outputs": [
    {
     "data": {
      "image/png": "[encoded data removed]",
      "text/plain": [
       "<Figure size 432x288 with 1 Axes>"
      ]
     },
     "metadata": {
      "needs_background": "light"
     },
     "output_type": "display_data"
    }
   ],
   "source": [
    "plt.hist(df['User/Auto'])\n",
    "plt.show()"
   ]
  },
  {
   "cell_type": "code",
   "execution_count": 7,
   "metadata": {},
   "outputs": [],
   "source": [
    "import seaborn as sns"
   ]
  },
  {
   "cell_type": "code",
   "execution_count": 9,
   "metadata": {},
   "outputs": [],
   "source": [
    "df['Class_Labels'] = df['User/Auto'].apply(lambda x : 1 if x == 'incident' else 0)"
   ]
  },
  {
   "cell_type": "code",
   "execution_count": 10,
   "metadata": {},
   "outputs": [
    {
     "data": {
      "text/html": [
       "<div>\n",
       "<style scoped>\n",
       "    .dataframe tbody tr th:only-of-type {\n",
       "        vertical-align: middle;\n",
       "    }\n",
       "\n",
       "    .dataframe tbody tr th {\n",
       "        vertical-align: top;\n",
       "    }\n",
       "\n",
       "    .dataframe thead th {\n",
       "        text-align: right;\n",
       "    }\n",
       "</style>\n",
       "<table border=\"1\" class=\"dataframe\">\n",
       "  <thead>\n",
       "    <tr style=\"text-align: right;\">\n",
       "      <th></th>\n",
       "      <th>Summary</th>\n",
       "      <th>User/Auto</th>\n",
       "      <th>Created</th>\n",
       "      <th>Resolved</th>\n",
       "      <th>Description</th>\n",
       "      <th>Class_Labels</th>\n",
       "    </tr>\n",
       "  </thead>\n",
       "  <tbody>\n",
       "    <tr>\n",
       "      <th>0</th>\n",
       "      <td>Unable to connec to SMTP host from OSE pod</td>\n",
       "      <td>incident</td>\n",
       "      <td>27-09-2019 09:20</td>\n",
       "      <td>27-09-2019 12:10</td>\n",
       "      <td>&lt;p&gt;&lt;span style=\"color: rgb(29, 28, 29); font-f...</td>\n",
       "      <td>1</td>\n",
       "    </tr>\n",
       "    <tr>\n",
       "      <th>1</th>\n",
       "      <td>Deployment failing | PODS are stuck</td>\n",
       "      <td>incident</td>\n",
       "      <td>11-09-2019 08:04</td>\n",
       "      <td>11-09-2019 09:12</td>\n",
       "      <td>&lt;p&gt;Hi OSE Team,&lt;br&gt; \\n&lt;br&gt; \\nWe are facing iss...</td>\n",
       "      <td>1</td>\n",
       "    </tr>\n",
       "    <tr>\n",
       "      <th>2</th>\n",
       "      <td>OSE_perf2_red URL _not accessible</td>\n",
       "      <td>incident</td>\n",
       "      <td>23-08-2019 08:06</td>\n",
       "      <td>NaN</td>\n",
       "      <td>&lt;table class=\"je-mso-wrapper\"&gt;&lt;tbody&gt;&lt;tr&gt;&lt;td&gt;&lt;...</td>\n",
       "      <td>1</td>\n",
       "    </tr>\n",
       "    <tr>\n",
       "      <th>3</th>\n",
       "      <td>DSP Application URL's are not working</td>\n",
       "      <td>incident</td>\n",
       "      <td>29-07-2019 05:01</td>\n",
       "      <td>29-07-2019 08:41</td>\n",
       "      <td>&lt;p&gt;The DSP application URL's are not working. ...</td>\n",
       "      <td>1</td>\n",
       "    </tr>\n",
       "    <tr>\n",
       "      <th>4</th>\n",
       "      <td>Deployment failure in cloudred OSE perf3.9 env</td>\n",
       "      <td>incident</td>\n",
       "      <td>08-07-2019 06:54</td>\n",
       "      <td>08-07-2019 11:05</td>\n",
       "      <td>&lt;div&gt; \\n&lt;p style=\"line-height: normal; margin-...</td>\n",
       "      <td>1</td>\n",
       "    </tr>\n",
       "  </tbody>\n",
       "</table>\n",
       "</div>"
      ],
      "text/plain": [
       "                                          Summary User/Auto           Created  \\\n",
       "0      Unable to connec to SMTP host from OSE pod  incident  27-09-2019 09:20   \n",
       "1             Deployment failing | PODS are stuck  incident  11-09-2019 08:04   \n",
       "2               OSE_perf2_red URL _not accessible  incident  23-08-2019 08:06   \n",
       "3           DSP Application URL's are not working  incident  29-07-2019 05:01   \n",
       "4  Deployment failure in cloudred OSE perf3.9 env  incident  08-07-2019 06:54   \n",
       "\n",
       "           Resolved                                        Description  \\\n",
       "0  27-09-2019 12:10  <p><span style=\"color: rgb(29, 28, 29); font-f...   \n",
       "1  11-09-2019 09:12  <p>Hi OSE Team,<br> \\n<br> \\nWe are facing iss...   \n",
       "2               NaN  <table class=\"je-mso-wrapper\"><tbody><tr><td><...   \n",
       "3  29-07-2019 08:41  <p>The DSP application URL's are not working. ...   \n",
       "4  08-07-2019 11:05  <div> \\n<p style=\"line-height: normal; margin-...   \n",
       "\n",
       "   Class_Labels  \n",
       "0             1  \n",
       "1             1  \n",
       "2             1  \n",
       "3             1  \n",
       "4             1  "
      ]
     },
     "execution_count": 10,
     "metadata": {},
     "output_type": "execute_result"
    }
   ],
   "source": [
    "df.head()"
   ]
  },
  {
   "cell_type": "code",
   "execution_count": 17,
   "metadata": {},
   "outputs": [
    {
     "data": {
      "image/png": "[encoded data removed]",
      "text/plain": [
       "<Figure size 432x288 with 1 Axes>"
      ]
     },
     "metadata": {
      "needs_background": "light"
     },
     "output_type": "display_data"
    }
   ],
   "source": [
    "sns.boxplot(y='Class_Labels', x='Created', data=df)\n",
    "plt.show()"
   ]
  },
  {
   "cell_type": "code",
   "execution_count": 13,
   "metadata": {},
   "outputs": [
    {
     "data": {
      "image/png": "[encoded data removed]",
      "text/plain": [
       "<Figure size 432x288 with 1 Axes>"
      ]
     },
     "metadata": {
      "needs_background": "light"
     },
     "output_type": "display_data"
    }
   ],
   "source": [
    "plt.hist(df['Class_Labels'])\n",
    "plt.show()"
   ]
  },
  {
   "cell_type": "code",
   "execution_count": 15,
   "metadata": {},
   "outputs": [
    {
     "data": {
      "text/plain": [
       "<matplotlib.axes._subplots.AxesSubplot at 0x1f3de5df0f0>"
      ]
     },
     "execution_count": 15,
     "metadata": {},
     "output_type": "execute_result"
    },
    {
     "data": {
      "image/png": "[encoded data removed]",
      "text/plain": [
       "<Figure size 360x360 with 1 Axes>"
      ]
     },
     "metadata": {
      "needs_background": "light"
     },
     "output_type": "display_data"
    }
   ],
   "source": [
    "df[\"User/Auto\"].value_counts().plot(kind='bar',color=['green','red'],title='Distribution Of Issues.',figsize=(5,5))"
   ]
  },
  {
   "cell_type": "code",
   "execution_count": 16,
   "metadata": {},
   "outputs": [
    {
     "data": {
      "text/plain": [
       "user        375\n",
       "incident    200\n",
       "Name: User/Auto, dtype: int64"
      ]
     },
     "execution_count": 16,
     "metadata": {},
     "output_type": "execute_result"
    }
   ],
   "source": [
    "df[\"User/Auto\"].value_counts()"
   ]
  },
  {
   "cell_type": "code",
   "execution_count": null,
   "metadata": {},
   "outputs": [],
   "source": []
  },
  {
   "cell_type": "code",
   "execution_count": null,
   "metadata": {},
   "outputs": [],
   "source": []
  },
  {
   "cell_type": "code",
   "execution_count": null,
   "metadata": {},
   "outputs": [],
   "source": []
  },
  {
   "cell_type": "code",
   "execution_count": null,
   "metadata": {},
   "outputs": [],
   "source": []
  }
 ],
 "metadata": {
  "kernelspec": {
   "display_name": "Python 3",
   "language": "python",
   "name": "python3"
  },
  "language_info": {
   "codemirror_mode": {
    "name": "ipython",
    "version": 3
   },
   "file_extension": ".py",
   "mimetype": "text/x-python",
   "name": "python",
   "nbconvert_exporter": "python",
   "pygments_lexer": "ipython3",
   "version": "3.7.0"
  }
 },
 "nbformat": 4,
 "nbformat_minor": 2
}
